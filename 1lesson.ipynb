{
  "nbformat": 4,
  "nbformat_minor": 0,
  "metadata": {
    "colab": {
      "name": "1lesson.ipynb",
      "version": "0.3.2",
      "provenance": [],
      "collapsed_sections": []
    },
    "kernelspec": {
      "name": "python3",
      "display_name": "Python 3"
    }
  },
  "cells": [
    {
      "cell_type": "markdown",
      "metadata": {
        "id": "view-in-github",
        "colab_type": "text"
      },
      "source": [
        "[View in Colaboratory](https://colab.research.google.com/github/boazde/uhd/blob/master/1lesson.ipynb)"
      ]
    },
    {
      "metadata": {
        "id": "Wutma933FY73",
        "colab_type": "text"
      },
      "cell_type": "markdown",
      "source": [
        "# Very simaple image recognition"
      ]
    },
    {
      "metadata": {
        "id": "ujq0wDT-FeSp",
        "colab_type": "text"
      },
      "cell_type": "markdown",
      "source": [
        "1. Load data\n",
        "2. Examine data\n",
        "3. Play with data\n",
        "4. run prelimianry models\n",
        "5. Evaluate\n",
        "6. \"deploy\""
      ]
    },
    {
      "metadata": {
        "id": "bubW4zlDHTuX",
        "colab_type": "text"
      },
      "cell_type": "markdown",
      "source": [
        "Some packages exist in colab, others need to be installed with the pip command"
      ]
    },
    {
      "metadata": {
        "id": "E6t3XSJJNTJ1",
        "colab_type": "text"
      },
      "cell_type": "markdown",
      "source": [
        "## Intro to colab and python"
      ]
    },
    {
      "metadata": {
        "id": "Vbad-y1ZQF0c",
        "colab_type": "text"
      },
      "cell_type": "markdown",
      "source": [
        "1. select cell and Ctrl+enter to run it, you can also click the > on the right"
      ]
    },
    {
      "metadata": {
        "id": "M2_pJlrqNVWZ",
        "colab_type": "code",
        "colab": {
          "base_uri": "https://localhost:8080/",
          "height": 34
        },
        "outputId": "15681359-fee0-45cc-cbc5-71257c1801fd"
      },
      "cell_type": "code",
      "source": [
        " \n",
        "# lines start # are comments\n",
        "1+1"
      ],
      "execution_count": 1,
      "outputs": [
        {
          "output_type": "execute_result",
          "data": {
            "text/plain": [
              "2"
            ]
          },
          "metadata": {
            "tags": []
          },
          "execution_count": 1
        }
      ]
    },
    {
      "metadata": {
        "id": "3ZhmTauKQJi8",
        "colab_type": "text"
      },
      "cell_type": "markdown",
      "source": [
        "2   you can add a code or text cell from the tool bar above.\n",
        "\n",
        "you can delete a cell and it's out put with the menu on the right (thre points)\n",
        "\n",
        "Exercise: delete now the above output and cell"
      ]
    },
    {
      "metadata": {
        "id": "lF21bHjAQcvq",
        "colab_type": "text"
      },
      "cell_type": "markdown",
      "source": [
        "3 command line can be accessed with !:"
      ]
    },
    {
      "metadata": {
        "id": "u5wwP71nNVcn",
        "colab_type": "code",
        "colab": {
          "base_uri": "https://localhost:8080/",
          "height": 34
        },
        "outputId": "4fa8dfe8-0a95-471a-ed54-756fd5fbf0b8"
      },
      "cell_type": "code",
      "source": [
        "\n",
        "! ls\n"
      ],
      "execution_count": 5,
      "outputs": [
        {
          "output_type": "stream",
          "text": [
            "datalab\r\n"
          ],
          "name": "stdout"
        }
      ]
    },
    {
      "metadata": {
        "id": "nsGc_t6HQYC_",
        "colab_type": "text"
      },
      "cell_type": "markdown",
      "source": [
        "useful commands: \n",
        "ls - list files in directory\n",
        "cd - change directory\n",
        "mv - move a file\n",
        "wget - download a file from url"
      ]
    },
    {
      "metadata": {
        "id": "_ZlbWEN-NVgQ",
        "colab_type": "code",
        "colab": {}
      },
      "cell_type": "code",
      "source": [
        "# 4. basic python\n",
        "# python is a scripting llanguage with dynamic typing. which menas you can set every variable to anything at anytime\n",
        "\n",
        "a=1"
      ],
      "execution_count": 0,
      "outputs": []
    },
    {
      "metadata": {
        "id": "IaSWIhSMNVjp",
        "colab_type": "code",
        "colab": {}
      },
      "cell_type": "code",
      "source": [
        "b=2"
      ],
      "execution_count": 0,
      "outputs": []
    },
    {
      "metadata": {
        "id": "nmzGqfytNVnQ",
        "colab_type": "code",
        "colab": {
          "base_uri": "https://localhost:8080/",
          "height": 34
        },
        "outputId": "993822d8-97a0-4036-9405-6c57ec108172"
      },
      "cell_type": "code",
      "source": [
        "a+b"
      ],
      "execution_count": 4,
      "outputs": [
        {
          "output_type": "execute_result",
          "data": {
            "text/plain": [
              "3"
            ]
          },
          "metadata": {
            "tags": []
          },
          "execution_count": 4
        }
      ]
    },
    {
      "metadata": {
        "id": "nIIzyVOaNVrI",
        "colab_type": "code",
        "colab": {}
      },
      "cell_type": "code",
      "source": [
        "b='word'"
      ],
      "execution_count": 0,
      "outputs": []
    },
    {
      "metadata": {
        "id": "69WKx52TOd3P",
        "colab_type": "code",
        "colab": {
          "base_uri": "https://localhost:8080/",
          "height": 34
        },
        "outputId": "e5a6f2a5-fd82-444f-8131-954ba6dd0e99"
      },
      "cell_type": "code",
      "source": [
        "# python has 2 very useful data structures: list and dict\n",
        "\n",
        "#list\n",
        "\n",
        "l = [1,2,1,2,3]\n",
        "\n",
        "# list elelments can be accessed with square brackets\n",
        "\n",
        "l[2]"
      ],
      "execution_count": 10,
      "outputs": [
        {
          "output_type": "execute_result",
          "data": {
            "text/plain": [
              "1"
            ]
          },
          "metadata": {
            "tags": []
          },
          "execution_count": 10
        }
      ]
    },
    {
      "metadata": {
        "id": "Xdvrbv2FOv4L",
        "colab_type": "code",
        "colab": {
          "base_uri": "https://localhost:8080/",
          "height": 34
        },
        "outputId": "72acbbeb-819f-4be4-9922-8e498e47706d"
      },
      "cell_type": "code",
      "source": [
        "# dict\n",
        "d = {'a':1,'b':2}\n",
        "\n",
        "d['a']\n",
        "\n",
        "# exercise: add a new element to d, with key 'c' and value 1"
      ],
      "execution_count": 8,
      "outputs": [
        {
          "output_type": "execute_result",
          "data": {
            "text/plain": [
              "1"
            ]
          },
          "metadata": {
            "tags": []
          },
          "execution_count": 8
        }
      ]
    },
    {
      "metadata": {
        "id": "BQ_Xi-TgO-G3",
        "colab_type": "code",
        "colab": {
          "base_uri": "https://localhost:8080/",
          "height": 34
        },
        "outputId": "e510123c-01d0-43eb-dd4a-5cb041311b9c"
      },
      "cell_type": "code",
      "source": [
        "# python has gunctions that can be used as func(input)\n",
        "\n",
        "len(l) # len shows the length of a list or any other data type with length"
      ],
      "execution_count": 9,
      "outputs": [
        {
          "output_type": "execute_result",
          "data": {
            "text/plain": [
              "5"
            ]
          },
          "metadata": {
            "tags": []
          },
          "execution_count": 9
        }
      ]
    },
    {
      "metadata": {
        "id": "6Q4vb_9oPV-_",
        "colab_type": "code",
        "colab": {
          "base_uri": "https://localhost:8080/",
          "height": 34
        },
        "outputId": "69a2d8cb-cceb-4aef-87b1-d57600008d8f"
      },
      "cell_type": "code",
      "source": [
        "# some functions need to be imported\n",
        "from collections import Counter\n",
        "\n",
        "Counter(l)"
      ],
      "execution_count": 11,
      "outputs": [
        {
          "output_type": "execute_result",
          "data": {
            "text/plain": [
              "Counter({1: 2, 2: 2, 3: 1})"
            ]
          },
          "metadata": {
            "tags": []
          },
          "execution_count": 11
        }
      ]
    },
    {
      "metadata": {
        "id": "NA10zRtIPfFk",
        "colab_type": "code",
        "colab": {}
      },
      "cell_type": "code",
      "source": [
        "Counter() # standing with cursor in function brackets and pressin tab, shows documentation for function. do it now"
      ],
      "execution_count": 0,
      "outputs": []
    },
    {
      "metadata": {
        "id": "ar_IyG6dPnQz",
        "colab_type": "code",
        "colab": {}
      },
      "cell_type": "code",
      "source": [
        "# you can also use this:\n",
        "?Counter()"
      ],
      "execution_count": 0,
      "outputs": []
    },
    {
      "metadata": {
        "id": "-nam0bM4Ptn1",
        "colab_type": "code",
        "colab": {}
      },
      "cell_type": "code",
      "source": [
        "# you can always download this files and use them on your own computer, but you have to have Jupyter notebook installed."
      ],
      "execution_count": 0,
      "outputs": []
    },
    {
      "metadata": {
        "id": "GXnugFGqP4oc",
        "colab_type": "text"
      },
      "cell_type": "markdown",
      "source": [
        "In This section we are going to train a simple hand written digit classifier, and also learn about python packages for data science:\n",
        "\n",
        "- numpy\n",
        "- pandas\n",
        "- scikit leanrn"
      ]
    },
    {
      "metadata": {
        "id": "UnSOL8Y_95fu",
        "colab_type": "text"
      },
      "cell_type": "markdown",
      "source": [
        "## Init"
      ]
    },
    {
      "metadata": {
        "id": "tELXEhzZFV_8",
        "colab_type": "code",
        "colab": {}
      },
      "cell_type": "code",
      "source": [
        " # imports\n",
        "  import numpy as np\n",
        "  import pandas as pd\n",
        "  import matplotlib.pyplot as plt\n",
        "  from collections import Counter\n",
        "  # sk learn is the leading machine learning package\n",
        "  \n",
        "  from sklearn.datasets import load_digits # sklearn has some data sets for experimenting"
      ],
      "execution_count": 0,
      "outputs": []
    },
    {
      "metadata": {
        "id": "js-2zRXEHba8",
        "colab_type": "code",
        "colab": {}
      },
      "cell_type": "code",
      "source": [
        "#from sklearn.datasets import \n",
        "# http://scikit-learn.org/stable/datasets/index.html"
      ],
      "execution_count": 0,
      "outputs": []
    },
    {
      "metadata": {
        "id": "gI9im6CwHbdo",
        "colab_type": "code",
        "colab": {}
      },
      "cell_type": "code",
      "source": [
        "# we load the digits\n",
        "digits = load_digits()"
      ],
      "execution_count": 0,
      "outputs": []
    },
    {
      "metadata": {
        "id": "5UgKHS5-IrDp",
        "colab_type": "code",
        "colab": {
          "base_uri": "https://localhost:8080/",
          "height": 141
        },
        "outputId": "b9a313aa-ed0a-46f3-88f3-9c1dceee9be0"
      },
      "cell_type": "code",
      "source": [
        "# and look at the data\n",
        "# dot notations is also used in python for sub-elements\n",
        "digits.data"
      ],
      "execution_count": 25,
      "outputs": [
        {
          "output_type": "execute_result",
          "data": {
            "text/plain": [
              "array([[ 0.,  0.,  5., ...,  0.,  0.,  0.],\n",
              "       [ 0.,  0.,  0., ..., 10.,  0.,  0.],\n",
              "       [ 0.,  0.,  0., ..., 16.,  9.,  0.],\n",
              "       ...,\n",
              "       [ 0.,  0.,  1., ...,  6.,  0.,  0.],\n",
              "       [ 0.,  0.,  2., ..., 12.,  0.,  0.],\n",
              "       [ 0.,  0., 10., ..., 12.,  1.,  0.]])"
            ]
          },
          "metadata": {
            "tags": []
          },
          "execution_count": 25
        }
      ]
    },
    {
      "metadata": {
        "id": "BeuhYee1S_Pp",
        "colab_type": "code",
        "colab": {
          "base_uri": "https://localhost:8080/",
          "height": 34
        },
        "outputId": "dcceeb72-097a-4cca-f7de-502f478d3e0c"
      },
      "cell_type": "code",
      "source": [
        "digits.keys()"
      ],
      "execution_count": 26,
      "outputs": [
        {
          "output_type": "execute_result",
          "data": {
            "text/plain": [
              "dict_keys(['data', 'target', 'target_names', 'images', 'DESCR'])"
            ]
          },
          "metadata": {
            "tags": []
          },
          "execution_count": 26
        }
      ]
    },
    {
      "metadata": {
        "id": "7pO31NrHIvmX",
        "colab_type": "code",
        "colab": {
          "base_uri": "https://localhost:8080/",
          "height": 34
        },
        "outputId": "50558048-e6b6-460b-d878-1f0af4af9d23"
      },
      "cell_type": "code",
      "source": [
        "# digits is an image dataset of 8x8 digits. (1797 X 64 (8x8)) each entry is a 0-255 pixel\n",
        "digits.data.shape\n"
      ],
      "execution_count": 80,
      "outputs": [
        {
          "output_type": "execute_result",
          "data": {
            "text/plain": [
              "(1797, 64)"
            ]
          },
          "metadata": {
            "tags": []
          },
          "execution_count": 80
        }
      ]
    },
    {
      "metadata": {
        "id": "WhhfQOOu_mCV",
        "colab_type": "code",
        "colab": {
          "base_uri": "https://localhost:8080/",
          "height": 34
        },
        "outputId": "dfbaefd8-7e58-4b14-b8f6-11d6d471fead"
      },
      "cell_type": "code",
      "source": [
        "digits.target"
      ],
      "execution_count": 81,
      "outputs": [
        {
          "output_type": "execute_result",
          "data": {
            "text/plain": [
              "array([0, 1, 2, ..., 8, 9, 8])"
            ]
          },
          "metadata": {
            "tags": []
          },
          "execution_count": 81
        }
      ]
    },
    {
      "metadata": {
        "id": "LNsGkm54cFIO",
        "colab_type": "text"
      },
      "cell_type": "markdown",
      "source": [
        "## Load and examine data"
      ]
    },
    {
      "metadata": {
        "id": "Xpyo8LpV_nPe",
        "colab_type": "text"
      },
      "cell_type": "markdown",
      "source": [
        "### Numpy"
      ]
    },
    {
      "metadata": {
        "id": "roAWkrdq_qqM",
        "colab_type": "code",
        "colab": {
          "base_uri": "https://localhost:8080/",
          "height": 34
        },
        "outputId": "ee444206-7e30-41c8-fdc8-e407eaf26fee"
      },
      "cell_type": "code",
      "source": [
        "type(digits.data)"
      ],
      "execution_count": 82,
      "outputs": [
        {
          "output_type": "execute_result",
          "data": {
            "text/plain": [
              "numpy.ndarray"
            ]
          },
          "metadata": {
            "tags": []
          },
          "execution_count": 82
        }
      ]
    },
    {
      "metadata": {
        "id": "kM7CAsI3I2HX",
        "colab_type": "code",
        "colab": {
          "base_uri": "https://localhost:8080/",
          "height": 34
        },
        "outputId": "121cf2c5-3207-459e-9bc8-013d5837fd1a"
      },
      "cell_type": "code",
      "source": [
        "# use numpy (matrix library) and matplotlib (drawing library) to plot the digits\n",
        "# 1. numpy slicing\n",
        "digits.data[5] # row 5\n",
        "digits.data[5:7] # rows 5 to 7\n",
        "digits.data[5:7,1:5] # rows 5-7, columns 1-5\n",
        "digits.data[[1,5,7],[2,4,6]]\n",
        "            "
      ],
      "execution_count": 83,
      "outputs": [
        {
          "output_type": "execute_result",
          "data": {
            "text/plain": [
              "array([ 0.,  0., 15.])"
            ]
          },
          "metadata": {
            "tags": []
          },
          "execution_count": 83
        }
      ]
    },
    {
      "metadata": {
        "id": "BeyaU7riJqq4",
        "colab_type": "code",
        "colab": {
          "base_uri": "https://localhost:8080/",
          "height": 158
        },
        "outputId": "70ec7309-36e5-411e-c814-a9304577fa1b"
      },
      "cell_type": "code",
      "source": [
        "# make a square\n",
        "digits.data[0].reshape([8,8])"
      ],
      "execution_count": 84,
      "outputs": [
        {
          "output_type": "execute_result",
          "data": {
            "text/plain": [
              "array([[ 0.,  0.,  5., 13.,  9.,  1.,  0.,  0.],\n",
              "       [ 0.,  0., 13., 15., 10., 15.,  5.,  0.],\n",
              "       [ 0.,  3., 15.,  2.,  0., 11.,  8.,  0.],\n",
              "       [ 0.,  4., 12.,  0.,  0.,  8.,  8.,  0.],\n",
              "       [ 0.,  5.,  8.,  0.,  0.,  9.,  8.,  0.],\n",
              "       [ 0.,  4., 11.,  0.,  1., 12.,  7.,  0.],\n",
              "       [ 0.,  2., 14.,  5., 10., 12.,  0.,  0.],\n",
              "       [ 0.,  0.,  6., 13., 10.,  0.,  0.,  0.]])"
            ]
          },
          "metadata": {
            "tags": []
          },
          "execution_count": 84
        }
      ]
    },
    {
      "metadata": {
        "id": "fj4lkoovBwBm",
        "colab_type": "code",
        "colab": {
          "base_uri": "https://localhost:8080/",
          "height": 34
        },
        "outputId": "1b135ddb-6317-48cc-b06c-ff9b589018f9"
      },
      "cell_type": "code",
      "source": [
        "# numpy is also a good tool for random numbers in python\n",
        "print(np.random.randint(10))# an integer from 0 to 9\n",
        "\n"
      ],
      "execution_count": 85,
      "outputs": [
        {
          "output_type": "stream",
          "text": [
            "2\n"
          ],
          "name": "stdout"
        }
      ]
    },
    {
      "metadata": {
        "id": "AcL-VCXxCFkw",
        "colab_type": "code",
        "colab": {
          "base_uri": "https://localhost:8080/",
          "height": 34
        },
        "outputId": "1e104dd8-7a72-4a42-f1d5-d61ba3ec0667"
      },
      "cell_type": "code",
      "source": [
        "np.random.choice([1,5,3]) #choose from list"
      ],
      "execution_count": 86,
      "outputs": [
        {
          "output_type": "execute_result",
          "data": {
            "text/plain": [
              "1"
            ]
          },
          "metadata": {
            "tags": []
          },
          "execution_count": 86
        }
      ]
    },
    {
      "metadata": {
        "id": "Ja57eEzXKE0j",
        "colab_type": "code",
        "colab": {
          "base_uri": "https://localhost:8080/",
          "height": 346
        },
        "outputId": "bf555dba-3bad-4c66-cd46-50b7f4cdf269"
      },
      "cell_type": "code",
      "source": [
        "# show square\n",
        "plt.imshow(digits.data[2].reshape([8,8]))\n",
        "plt.grid(False)"
      ],
      "execution_count": 87,
      "outputs": [
        {
          "output_type": "display_data",
          "data": {
            "image/png": "[encoded data removed]",
            "text/plain": [
              "<matplotlib.figure.Figure at 0x7f8aae3c94a8>"
            ]
          },
          "metadata": {
            "tags": []
          }
        }
      ]
    },
    {
      "metadata": {
        "id": "rgbWNj_wKJSX",
        "colab_type": "code",
        "colab": {
          "base_uri": "https://localhost:8080/",
          "height": 462
        },
        "outputId": "8747086f-3ee2-41f4-fc46-1c774985701d"
      },
      "cell_type": "code",
      "source": [
        "# Figure size (width, height) in inches\n",
        "fig = plt.figure(figsize=(6, 6))\n",
        "\n",
        "# Adjust the subplots \n",
        "fig.subplots_adjust(left=0, right=1, bottom=0, top=1, hspace=0.05, wspace=0) \n",
        "\n",
        "for i in range(64):\n",
        "    ax = fig.add_subplot(8, 8, i + 1, xticks=[], yticks=[])\n",
        "    ax.imshow(digits.images[i], cmap=plt.cm.binary, interpolation='nearest')\n",
        "    ax.text(0, 7, str(digits.target[i]))\n",
        "\n",
        "# Show the plot\n",
        "plt.show()"
      ],
      "execution_count": 88,
      "outputs": [
        {
          "output_type": "display_data",
          "data": {
            "image/png": "[encoded data removed]",
            "text/plain": [
              "<matplotlib.figure.Figure at 0x7f8aaecbc3c8>"
            ]
          },
          "metadata": {
            "tags": []
          }
        }
      ]
    },
    {
      "metadata": {
        "id": "N0MeJNtfCOEf",
        "colab_type": "text"
      },
      "cell_type": "markdown",
      "source": [
        "Warmup exercise: change the above presnetation to random (instead of first 64 digits)"
      ]
    },
    {
      "metadata": {
        "id": "APqhVIASBUT0",
        "colab_type": "text"
      },
      "cell_type": "markdown",
      "source": [
        "### Pandas"
      ]
    },
    {
      "metadata": {
        "id": "XY17t_jSNaZj",
        "colab_type": "code",
        "colab": {
          "base_uri": "https://localhost:8080/",
          "height": 226
        },
        "outputId": "1e1e5c16-354f-4749-96f1-7330f7e2b073"
      },
      "cell_type": "code",
      "source": [
        "# table are very improetnet since, they are the foundations of data\n",
        "# lets use pandas - a library that allows many Excel/SQL-like functionallities in oython\n",
        "\n",
        "df = pd.DataFrame(digits.data)\n",
        "df.head()"
      ],
      "execution_count": 28,
      "outputs": [
        {
          "output_type": "execute_result",
          "data": {
            "text/html": [
              "<div>\n",
              "<style scoped>\n",
              "    .dataframe tbody tr th:only-of-type {\n",
              "        vertical-align: middle;\n",
              "    }\n",
              "\n",
              "    .dataframe tbody tr th {\n",
              "        vertical-align: top;\n",
              "    }\n",
              "\n",
              "    .dataframe thead th {\n",
              "        text-align: right;\n",
              "    }\n",
              "</style>\n",
              "<table border=\"1\" class=\"dataframe\">\n",
              "  <thead>\n",
              "    <tr style=\"text-align: right;\">\n",
              "      <th></th>\n",
              "      <th>0</th>\n",
              "      <th>1</th>\n",
              "      <th>2</th>\n",
              "      <th>3</th>\n",
              "      <th>4</th>\n",
              "      <th>5</th>\n",
              "      <th>6</th>\n",
              "      <th>7</th>\n",
              "      <th>8</th>\n",
              "      <th>9</th>\n",
              "      <th>...</th>\n",
              "      <th>54</th>\n",
              "      <th>55</th>\n",
              "      <th>56</th>\n",
              "      <th>57</th>\n",
              "      <th>58</th>\n",
              "      <th>59</th>\n",
              "      <th>60</th>\n",
              "      <th>61</th>\n",
              "      <th>62</th>\n",
              "      <th>63</th>\n",
              "    </tr>\n",
              "  </thead>\n",
              "  <tbody>\n",
              "    <tr>\n",
              "      <th>0</th>\n",
              "      <td>0.0</td>\n",
              "      <td>0.0</td>\n",
              "      <td>5.0</td>\n",
              "      <td>13.0</td>\n",
              "      <td>9.0</td>\n",
              "      <td>1.0</td>\n",
              "      <td>0.0</td>\n",
              "      <td>0.0</td>\n",
              "      <td>0.0</td>\n",
              "      <td>0.0</td>\n",
              "      <td>...</td>\n",
              "      <td>0.0</td>\n",
              "      <td>0.0</td>\n",
              "      <td>0.0</td>\n",
              "      <td>0.0</td>\n",
              "      <td>6.0</td>\n",
              "      <td>13.0</td>\n",
              "      <td>10.0</td>\n",
              "      <td>0.0</td>\n",
              "      <td>0.0</td>\n",
              "      <td>0.0</td>\n",
              "    </tr>\n",
              "    <tr>\n",
              "      <th>1</th>\n",
              "      <td>0.0</td>\n",
              "      <td>0.0</td>\n",
              "      <td>0.0</td>\n",
              "      <td>12.0</td>\n",
              "      <td>13.0</td>\n",
              "      <td>5.0</td>\n",
              "      <td>0.0</td>\n",
              "      <td>0.0</td>\n",
              "      <td>0.0</td>\n",
              "      <td>0.0</td>\n",
              "      <td>...</td>\n",
              "      <td>0.0</td>\n",
              "      <td>0.0</td>\n",
              "      <td>0.0</td>\n",
              "      <td>0.0</td>\n",
              "      <td>0.0</td>\n",
              "      <td>11.0</td>\n",
              "      <td>16.0</td>\n",
              "      <td>10.0</td>\n",
              "      <td>0.0</td>\n",
              "      <td>0.0</td>\n",
              "    </tr>\n",
              "    <tr>\n",
              "      <th>2</th>\n",
              "      <td>0.0</td>\n",
              "      <td>0.0</td>\n",
              "      <td>0.0</td>\n",
              "      <td>4.0</td>\n",
              "      <td>15.0</td>\n",
              "      <td>12.0</td>\n",
              "      <td>0.0</td>\n",
              "      <td>0.0</td>\n",
              "      <td>0.0</td>\n",
              "      <td>0.0</td>\n",
              "      <td>...</td>\n",
              "      <td>5.0</td>\n",
              "      <td>0.0</td>\n",
              "      <td>0.0</td>\n",
              "      <td>0.0</td>\n",
              "      <td>0.0</td>\n",
              "      <td>3.0</td>\n",
              "      <td>11.0</td>\n",
              "      <td>16.0</td>\n",
              "      <td>9.0</td>\n",
              "      <td>0.0</td>\n",
              "    </tr>\n",
              "    <tr>\n",
              "      <th>3</th>\n",
              "      <td>0.0</td>\n",
              "      <td>0.0</td>\n",
              "      <td>7.0</td>\n",
              "      <td>15.0</td>\n",
              "      <td>13.0</td>\n",
              "      <td>1.0</td>\n",
              "      <td>0.0</td>\n",
              "      <td>0.0</td>\n",
              "      <td>0.0</td>\n",
              "      <td>8.0</td>\n",
              "      <td>...</td>\n",
              "      <td>9.0</td>\n",
              "      <td>0.0</td>\n",
              "      <td>0.0</td>\n",
              "      <td>0.0</td>\n",
              "      <td>7.0</td>\n",
              "      <td>13.0</td>\n",
              "      <td>13.0</td>\n",
              "      <td>9.0</td>\n",
              "      <td>0.0</td>\n",
              "      <td>0.0</td>\n",
              "    </tr>\n",
              "    <tr>\n",
              "      <th>4</th>\n",
              "      <td>0.0</td>\n",
              "      <td>0.0</td>\n",
              "      <td>0.0</td>\n",
              "      <td>1.0</td>\n",
              "      <td>11.0</td>\n",
              "      <td>0.0</td>\n",
              "      <td>0.0</td>\n",
              "      <td>0.0</td>\n",
              "      <td>0.0</td>\n",
              "      <td>0.0</td>\n",
              "      <td>...</td>\n",
              "      <td>0.0</td>\n",
              "      <td>0.0</td>\n",
              "      <td>0.0</td>\n",
              "      <td>0.0</td>\n",
              "      <td>0.0</td>\n",
              "      <td>2.0</td>\n",
              "      <td>16.0</td>\n",
              "      <td>4.0</td>\n",
              "      <td>0.0</td>\n",
              "      <td>0.0</td>\n",
              "    </tr>\n",
              "  </tbody>\n",
              "</table>\n",
              "<p>5 rows × 64 columns</p>\n",
              "</div>"
            ],
            "text/plain": [
              "    0    1    2     3     4     5    6    7    8    9  ...    54   55   56  \\\n",
              "0  0.0  0.0  5.0  13.0   9.0   1.0  0.0  0.0  0.0  0.0 ...   0.0  0.0  0.0   \n",
              "1  0.0  0.0  0.0  12.0  13.0   5.0  0.0  0.0  0.0  0.0 ...   0.0  0.0  0.0   \n",
              "2  0.0  0.0  0.0   4.0  15.0  12.0  0.0  0.0  0.0  0.0 ...   5.0  0.0  0.0   \n",
              "3  0.0  0.0  7.0  15.0  13.0   1.0  0.0  0.0  0.0  8.0 ...   9.0  0.0  0.0   \n",
              "4  0.0  0.0  0.0   1.0  11.0   0.0  0.0  0.0  0.0  0.0 ...   0.0  0.0  0.0   \n",
              "\n",
              "    57   58    59    60    61   62   63  \n",
              "0  0.0  6.0  13.0  10.0   0.0  0.0  0.0  \n",
              "1  0.0  0.0  11.0  16.0  10.0  0.0  0.0  \n",
              "2  0.0  0.0   3.0  11.0  16.0  9.0  0.0  \n",
              "3  0.0  7.0  13.0  13.0   9.0  0.0  0.0  \n",
              "4  0.0  0.0   2.0  16.0   4.0  0.0  0.0  \n",
              "\n",
              "[5 rows x 64 columns]"
            ]
          },
          "metadata": {
            "tags": []
          },
          "execution_count": 28
        }
      ]
    },
    {
      "metadata": {
        "id": "8Q3TxTR9Tl77",
        "colab_type": "code",
        "colab": {
          "base_uri": "https://localhost:8080/",
          "height": 34
        },
        "outputId": "6d453e33-7dd3-4e42-c357-f7b376ab6199"
      },
      "cell_type": "code",
      "source": [
        "#if there are column names (other than numbers) they can be accessed with \n",
        "df.columns"
      ],
      "execution_count": 31,
      "outputs": [
        {
          "output_type": "execute_result",
          "data": {
            "text/plain": [
              "RangeIndex(start=0, stop=64, step=1)"
            ]
          },
          "metadata": {
            "tags": []
          },
          "execution_count": 31
        }
      ]
    },
    {
      "metadata": {
        "id": "1PXvcGGuDKra",
        "colab_type": "code",
        "colab": {
          "base_uri": "https://localhost:8080/",
          "height": 226
        },
        "outputId": "527280b8-d2f5-4e6d-cee0-6a1d169c4553"
      },
      "cell_type": "code",
      "source": [
        "#filter by column:\n",
        "df[df[1]>0].head()"
      ],
      "execution_count": 90,
      "outputs": [
        {
          "output_type": "execute_result",
          "data": {
            "text/html": [
              "<div>\n",
              "<style scoped>\n",
              "    .dataframe tbody tr th:only-of-type {\n",
              "        vertical-align: middle;\n",
              "    }\n",
              "\n",
              "    .dataframe tbody tr th {\n",
              "        vertical-align: top;\n",
              "    }\n",
              "\n",
              "    .dataframe thead th {\n",
              "        text-align: right;\n",
              "    }\n",
              "</style>\n",
              "<table border=\"1\" class=\"dataframe\">\n",
              "  <thead>\n",
              "    <tr style=\"text-align: right;\">\n",
              "      <th></th>\n",
              "      <th>0</th>\n",
              "      <th>1</th>\n",
              "      <th>2</th>\n",
              "      <th>3</th>\n",
              "      <th>4</th>\n",
              "      <th>5</th>\n",
              "      <th>6</th>\n",
              "      <th>7</th>\n",
              "      <th>8</th>\n",
              "      <th>9</th>\n",
              "      <th>...</th>\n",
              "      <th>54</th>\n",
              "      <th>55</th>\n",
              "      <th>56</th>\n",
              "      <th>57</th>\n",
              "      <th>58</th>\n",
              "      <th>59</th>\n",
              "      <th>60</th>\n",
              "      <th>61</th>\n",
              "      <th>62</th>\n",
              "      <th>63</th>\n",
              "    </tr>\n",
              "  </thead>\n",
              "  <tbody>\n",
              "    <tr>\n",
              "      <th>13</th>\n",
              "      <td>0.0</td>\n",
              "      <td>2.0</td>\n",
              "      <td>9.0</td>\n",
              "      <td>15.0</td>\n",
              "      <td>14.0</td>\n",
              "      <td>9.0</td>\n",
              "      <td>3.0</td>\n",
              "      <td>0.0</td>\n",
              "      <td>0.0</td>\n",
              "      <td>4.0</td>\n",
              "      <td>...</td>\n",
              "      <td>6.0</td>\n",
              "      <td>0.0</td>\n",
              "      <td>0.0</td>\n",
              "      <td>2.0</td>\n",
              "      <td>12.0</td>\n",
              "      <td>12.0</td>\n",
              "      <td>13.0</td>\n",
              "      <td>11.0</td>\n",
              "      <td>0.0</td>\n",
              "      <td>0.0</td>\n",
              "    </tr>\n",
              "    <tr>\n",
              "      <th>15</th>\n",
              "      <td>0.0</td>\n",
              "      <td>5.0</td>\n",
              "      <td>12.0</td>\n",
              "      <td>13.0</td>\n",
              "      <td>16.0</td>\n",
              "      <td>16.0</td>\n",
              "      <td>2.0</td>\n",
              "      <td>0.0</td>\n",
              "      <td>0.0</td>\n",
              "      <td>11.0</td>\n",
              "      <td>...</td>\n",
              "      <td>0.0</td>\n",
              "      <td>0.0</td>\n",
              "      <td>0.0</td>\n",
              "      <td>4.0</td>\n",
              "      <td>15.0</td>\n",
              "      <td>16.0</td>\n",
              "      <td>2.0</td>\n",
              "      <td>0.0</td>\n",
              "      <td>0.0</td>\n",
              "      <td>0.0</td>\n",
              "    </tr>\n",
              "    <tr>\n",
              "      <th>23</th>\n",
              "      <td>0.0</td>\n",
              "      <td>1.0</td>\n",
              "      <td>8.0</td>\n",
              "      <td>12.0</td>\n",
              "      <td>15.0</td>\n",
              "      <td>14.0</td>\n",
              "      <td>4.0</td>\n",
              "      <td>0.0</td>\n",
              "      <td>0.0</td>\n",
              "      <td>3.0</td>\n",
              "      <td>...</td>\n",
              "      <td>0.0</td>\n",
              "      <td>0.0</td>\n",
              "      <td>0.0</td>\n",
              "      <td>0.0</td>\n",
              "      <td>14.0</td>\n",
              "      <td>15.0</td>\n",
              "      <td>11.0</td>\n",
              "      <td>2.0</td>\n",
              "      <td>0.0</td>\n",
              "      <td>0.0</td>\n",
              "    </tr>\n",
              "    <tr>\n",
              "      <th>32</th>\n",
              "      <td>0.0</td>\n",
              "      <td>2.0</td>\n",
              "      <td>13.0</td>\n",
              "      <td>16.0</td>\n",
              "      <td>16.0</td>\n",
              "      <td>16.0</td>\n",
              "      <td>11.0</td>\n",
              "      <td>0.0</td>\n",
              "      <td>0.0</td>\n",
              "      <td>5.0</td>\n",
              "      <td>...</td>\n",
              "      <td>0.0</td>\n",
              "      <td>0.0</td>\n",
              "      <td>0.0</td>\n",
              "      <td>2.0</td>\n",
              "      <td>16.0</td>\n",
              "      <td>15.0</td>\n",
              "      <td>8.0</td>\n",
              "      <td>0.0</td>\n",
              "      <td>0.0</td>\n",
              "      <td>0.0</td>\n",
              "    </tr>\n",
              "    <tr>\n",
              "      <th>33</th>\n",
              "      <td>0.0</td>\n",
              "      <td>6.0</td>\n",
              "      <td>13.0</td>\n",
              "      <td>5.0</td>\n",
              "      <td>8.0</td>\n",
              "      <td>8.0</td>\n",
              "      <td>1.0</td>\n",
              "      <td>0.0</td>\n",
              "      <td>0.0</td>\n",
              "      <td>8.0</td>\n",
              "      <td>...</td>\n",
              "      <td>0.0</td>\n",
              "      <td>0.0</td>\n",
              "      <td>0.0</td>\n",
              "      <td>4.0</td>\n",
              "      <td>16.0</td>\n",
              "      <td>15.0</td>\n",
              "      <td>3.0</td>\n",
              "      <td>0.0</td>\n",
              "      <td>0.0</td>\n",
              "      <td>0.0</td>\n",
              "    </tr>\n",
              "  </tbody>\n",
              "</table>\n",
              "<p>5 rows × 64 columns</p>\n",
              "</div>"
            ],
            "text/plain": [
              "     0    1     2     3     4     5     6    7    8     9  ...    54   55  \\\n",
              "13  0.0  2.0   9.0  15.0  14.0   9.0   3.0  0.0  0.0   4.0 ...   6.0  0.0   \n",
              "15  0.0  5.0  12.0  13.0  16.0  16.0   2.0  0.0  0.0  11.0 ...   0.0  0.0   \n",
              "23  0.0  1.0   8.0  12.0  15.0  14.0   4.0  0.0  0.0   3.0 ...   0.0  0.0   \n",
              "32  0.0  2.0  13.0  16.0  16.0  16.0  11.0  0.0  0.0   5.0 ...   0.0  0.0   \n",
              "33  0.0  6.0  13.0   5.0   8.0   8.0   1.0  0.0  0.0   8.0 ...   0.0  0.0   \n",
              "\n",
              "     56   57    58    59    60    61   62   63  \n",
              "13  0.0  2.0  12.0  12.0  13.0  11.0  0.0  0.0  \n",
              "15  0.0  4.0  15.0  16.0   2.0   0.0  0.0  0.0  \n",
              "23  0.0  0.0  14.0  15.0  11.0   2.0  0.0  0.0  \n",
              "32  0.0  2.0  16.0  15.0   8.0   0.0  0.0  0.0  \n",
              "33  0.0  4.0  16.0  15.0   3.0   0.0  0.0  0.0  \n",
              "\n",
              "[5 rows x 64 columns]"
            ]
          },
          "metadata": {
            "tags": []
          },
          "execution_count": 90
        }
      ]
    },
    {
      "metadata": {
        "id": "ETbMj8z2DVRd",
        "colab_type": "code",
        "colab": {
          "base_uri": "https://localhost:8080/",
          "height": 197
        },
        "outputId": "733c9a70-d62e-4255-9858-4fe8d408a59b"
      },
      "cell_type": "code",
      "source": [
        "# show some columns\n",
        "df[[0,5,63]].head()"
      ],
      "execution_count": 91,
      "outputs": [
        {
          "output_type": "execute_result",
          "data": {
            "text/html": [
              "<div>\n",
              "<style scoped>\n",
              "    .dataframe tbody tr th:only-of-type {\n",
              "        vertical-align: middle;\n",
              "    }\n",
              "\n",
              "    .dataframe tbody tr th {\n",
              "        vertical-align: top;\n",
              "    }\n",
              "\n",
              "    .dataframe thead th {\n",
              "        text-align: right;\n",
              "    }\n",
              "</style>\n",
              "<table border=\"1\" class=\"dataframe\">\n",
              "  <thead>\n",
              "    <tr style=\"text-align: right;\">\n",
              "      <th></th>\n",
              "      <th>0</th>\n",
              "      <th>5</th>\n",
              "      <th>63</th>\n",
              "    </tr>\n",
              "  </thead>\n",
              "  <tbody>\n",
              "    <tr>\n",
              "      <th>0</th>\n",
              "      <td>0.0</td>\n",
              "      <td>1.0</td>\n",
              "      <td>0.0</td>\n",
              "    </tr>\n",
              "    <tr>\n",
              "      <th>1</th>\n",
              "      <td>0.0</td>\n",
              "      <td>5.0</td>\n",
              "      <td>0.0</td>\n",
              "    </tr>\n",
              "    <tr>\n",
              "      <th>2</th>\n",
              "      <td>0.0</td>\n",
              "      <td>12.0</td>\n",
              "      <td>0.0</td>\n",
              "    </tr>\n",
              "    <tr>\n",
              "      <th>3</th>\n",
              "      <td>0.0</td>\n",
              "      <td>1.0</td>\n",
              "      <td>0.0</td>\n",
              "    </tr>\n",
              "    <tr>\n",
              "      <th>4</th>\n",
              "      <td>0.0</td>\n",
              "      <td>0.0</td>\n",
              "      <td>0.0</td>\n",
              "    </tr>\n",
              "  </tbody>\n",
              "</table>\n",
              "</div>"
            ],
            "text/plain": [
              "    0     5    63\n",
              "0  0.0   1.0  0.0\n",
              "1  0.0   5.0  0.0\n",
              "2  0.0  12.0  0.0\n",
              "3  0.0   1.0  0.0\n",
              "4  0.0   0.0  0.0"
            ]
          },
          "metadata": {
            "tags": []
          },
          "execution_count": 91
        }
      ]
    },
    {
      "metadata": {
        "id": "5jQus-NcDevP",
        "colab_type": "text"
      },
      "cell_type": "markdown",
      "source": [
        "### Small analysis"
      ]
    },
    {
      "metadata": {
        "id": "z2-eL15pDhE_",
        "colab_type": "text"
      },
      "cell_type": "markdown",
      "source": [
        "some times, before we start modelling, we are vurious to see some attributes of the data.\n",
        "e.g, lets look at some stats of intensities of pixels:"
      ]
    },
    {
      "metadata": {
        "id": "cm6PqwLHGI1e",
        "colab_type": "code",
        "colab": {
          "base_uri": "https://localhost:8080/",
          "height": 247
        },
        "outputId": "ea4b7cd6-7753-4458-ed84-e0dc0eb007c2"
      },
      "cell_type": "code",
      "source": [
        "np.sum(digits.data,axis =0 )"
      ],
      "execution_count": 92,
      "outputs": [
        {
          "output_type": "execute_result",
          "data": {
            "text/plain": [
              "array([0.0000e+00, 5.4600e+02, 9.3530e+03, 2.1269e+04, 2.1291e+04,\n",
              "       1.0390e+04, 2.4480e+03, 2.3300e+02, 1.0000e+01, 3.5830e+03,\n",
              "       1.8657e+04, 2.1527e+04, 1.8472e+04, 1.4692e+04, 3.3180e+03,\n",
              "       1.9400e+02, 5.0000e+00, 4.6750e+03, 1.7796e+04, 1.2566e+04,\n",
              "       1.2755e+04, 1.4028e+04, 3.2140e+03, 9.0000e+01, 2.0000e+00,\n",
              "       4.4380e+03, 1.6337e+04, 1.5852e+04, 1.7839e+04, 1.3570e+04,\n",
              "       4.1650e+03, 4.0000e+00, 0.0000e+00, 4.2040e+03, 1.3778e+04,\n",
              "       1.6302e+04, 1.8512e+04, 1.5713e+04, 5.2280e+03, 0.0000e+00,\n",
              "       1.6000e+01, 2.8460e+03, 1.2366e+04, 1.2989e+04, 1.3787e+04,\n",
              "       1.4801e+04, 6.2110e+03, 4.9000e+01, 1.3000e+01, 1.2660e+03,\n",
              "       1.3490e+04, 1.7142e+04, 1.6921e+04, 1.5739e+04, 6.6940e+03,\n",
              "       3.7100e+02, 1.0000e+00, 5.0200e+02, 9.9870e+03, 2.1724e+04,\n",
              "       2.1221e+04, 1.2155e+04, 3.7160e+03, 6.5500e+02])"
            ]
          },
          "metadata": {
            "tags": []
          },
          "execution_count": 92
        }
      ]
    },
    {
      "metadata": {
        "id": "HMpexR7uNacm",
        "colab_type": "code",
        "colab": {
          "base_uri": "https://localhost:8080/",
          "height": 87
        },
        "outputId": "a51a18d0-3431-40a1-cf68-f7d4537c53bc"
      },
      "cell_type": "code",
      "source": [
        "np.argsort(np.sum(digits.data,axis =0 ))"
      ],
      "execution_count": 93,
      "outputs": [
        {
          "output_type": "execute_result",
          "data": {
            "text/plain": [
              "array([ 0, 39, 32, 56, 24, 31, 16,  8, 48, 40, 47, 23, 15,  7, 55, 57,  1,\n",
              "       63, 49,  6, 41, 22, 14,  9, 62, 30, 33, 25, 17, 38, 46, 54,  2, 58,\n",
              "        5, 61, 42, 19, 20, 43, 50, 29, 34, 44, 21, 13, 45, 37, 53, 27, 35,\n",
              "       26, 52, 51, 18, 28, 12, 36, 10, 60,  3,  4, 11, 59])"
            ]
          },
          "metadata": {
            "tags": []
          },
          "execution_count": 93
        }
      ]
    },
    {
      "metadata": {
        "id": "c2gkIXN2FIgP",
        "colab_type": "code",
        "colab": {
          "base_uri": "https://localhost:8080/",
          "height": 364
        },
        "outputId": "6a48edbe-2a6e-4db4-a1ed-f8ff4ad377d4"
      },
      "cell_type": "code",
      "source": [
        "plt.bar(range(64),np.sum(digits.data,axis =0 ))"
      ],
      "execution_count": 94,
      "outputs": [
        {
          "output_type": "execute_result",
          "data": {
            "text/plain": [
              "<Container object of 64 artists>"
            ]
          },
          "metadata": {
            "tags": []
          },
          "execution_count": 94
        },
        {
          "output_type": "display_data",
          "data": {
            "image/png": "[encoded data removed]",
            "text/plain": [
              "<matplotlib.figure.Figure at 0x7f8aaf395160>"
            ]
          },
          "metadata": {
            "tags": []
          }
        }
      ]
    },
    {
      "metadata": {
        "id": "0WbBIqX3O6BS",
        "colab_type": "code",
        "colab": {}
      },
      "cell_type": "code",
      "source": [
        "# lets look if there is a digit which is more intense then others\n",
        "\n",
        "df['target']=digits.target\n",
        "df['sum']=np.sum(digits.data,axis =1 )\n",
        "df['count']=np.sum(digits.data>0,axis =1 )"
      ],
      "execution_count": 0,
      "outputs": []
    },
    {
      "metadata": {
        "id": "c-LTd9DXPe7U",
        "colab_type": "code",
        "colab": {
          "base_uri": "https://localhost:8080/",
          "height": 141
        },
        "outputId": "ac906b97-4649-4f7c-d501-4ea98b953ba8"
      },
      "cell_type": "code",
      "source": [
        "digits.data>0"
      ],
      "execution_count": 96,
      "outputs": [
        {
          "output_type": "execute_result",
          "data": {
            "text/plain": [
              "array([[False, False,  True, ..., False, False, False],\n",
              "       [False, False, False, ...,  True, False, False],\n",
              "       [False, False, False, ...,  True,  True, False],\n",
              "       ...,\n",
              "       [False, False,  True, ...,  True, False, False],\n",
              "       [False, False,  True, ...,  True, False, False],\n",
              "       [False, False,  True, ...,  True,  True, False]])"
            ]
          },
          "metadata": {
            "tags": []
          },
          "execution_count": 96
        }
      ]
    },
    {
      "metadata": {
        "id": "OlRfxB_dO_eo",
        "colab_type": "code",
        "colab": {
          "base_uri": "https://localhost:8080/",
          "height": 230
        },
        "outputId": "04705814-050a-45ec-f9e3-8e254a3a7971"
      },
      "cell_type": "code",
      "source": [
        "# lets try to see if there is any siginicant difference in \"intensity\" of the digits\n",
        "df.groupby('target').mean()['sum']"
      ],
      "execution_count": 97,
      "outputs": [
        {
          "output_type": "execute_result",
          "data": {
            "text/plain": [
              "target\n",
              "0    316.938202\n",
              "1    313.225275\n",
              "2    313.932203\n",
              "3    306.836066\n",
              "4    310.712707\n",
              "5    307.225275\n",
              "6    311.248619\n",
              "7    303.290503\n",
              "8    329.931034\n",
              "9    313.288889\n",
              "Name: sum, dtype: float64"
            ]
          },
          "metadata": {
            "tags": []
          },
          "execution_count": 97
        }
      ]
    },
    {
      "metadata": {
        "id": "tSAFhqr3Pzl6",
        "colab_type": "code",
        "colab": {}
      },
      "cell_type": "code",
      "source": [
        "mean_digit = df.groupby('target').mean()"
      ],
      "execution_count": 0,
      "outputs": []
    },
    {
      "metadata": {
        "id": "6wqfE5r_PrKR",
        "colab_type": "code",
        "colab": {
          "base_uri": "https://localhost:8080/",
          "height": 400
        },
        "outputId": "4b428e28-02d4-41be-8c4b-d84b68bd2885"
      },
      "cell_type": "code",
      "source": [
        "# lets try to plot the average digit\n",
        "\n",
        "plt.imshow(mean_digit.iloc[0,0:64].reshape([8,8]))"
      ],
      "execution_count": 99,
      "outputs": [
        {
          "output_type": "stream",
          "text": [
            "/usr/local/lib/python3.6/dist-packages/ipykernel_launcher.py:2: FutureWarning: reshape is deprecated and will raise in a subsequent release. Please use .values.reshape(...) instead\n",
            "  \n"
          ],
          "name": "stderr"
        },
        {
          "output_type": "execute_result",
          "data": {
            "text/plain": [
              "<matplotlib.image.AxesImage at 0x7f8aaf0cad30>"
            ]
          },
          "metadata": {
            "tags": []
          },
          "execution_count": 99
        },
        {
          "output_type": "display_data",
          "data": {
            "image/png": "[encoded data removed]",
            "text/plain": [
              "<matplotlib.figure.Figure at 0x7f8ab1844470>"
            ]
          },
          "metadata": {
            "tags": []
          }
        }
      ]
    },
    {
      "metadata": {
        "id": "Bn9xAkhTG9kL",
        "colab_type": "text"
      },
      "cell_type": "markdown",
      "source": [
        "Exercise: plot 10 number means in one plot (hint: look for solution above)"
      ]
    },
    {
      "metadata": {
        "id": "tkn730cMHFCI",
        "colab_type": "text"
      },
      "cell_type": "markdown",
      "source": [
        "#### Solution"
      ]
    },
    {
      "metadata": {
        "id": "mTh0641KHDK3",
        "colab_type": "code",
        "colab": {}
      },
      "cell_type": "code",
      "source": [
        ""
      ],
      "execution_count": 0,
      "outputs": []
    },
    {
      "metadata": {
        "id": "eHW3ORI2PrNd",
        "colab_type": "code",
        "colab": {
          "base_uri": "https://localhost:8080/",
          "height": 408
        },
        "outputId": "3f4b41c4-6d4a-4666-ff16-a744fc59964f"
      },
      "cell_type": "code",
      "source": [
        "\n",
        "# Figure size (width, height) in inches\n",
        "fig = plt.figure(figsize=(6, 6))\n",
        "\n",
        "# Adjust the subplots \n",
        "fig.subplots_adjust(left=0, right=1, bottom=0, top=1, hspace=0.05, wspace=0) \n",
        "\n",
        "for i in range(10):\n",
        "    ax = fig.add_subplot(4, 4, i + 1, xticks=[], yticks=[])\n",
        "    ax.imshow(mean_digit.iloc[i,0:64].reshape([8,8]), cmap=plt.cm.binary, interpolation='nearest')\n",
        "    #ax.text(0, 7, str(digits.target[i]))\n",
        "\n",
        "# Show the plot\n",
        "plt.show()"
      ],
      "execution_count": 100,
      "outputs": [
        {
          "output_type": "stream",
          "text": [
            "/usr/local/lib/python3.6/dist-packages/ipykernel_launcher.py:8: FutureWarning: reshape is deprecated and will raise in a subsequent release. Please use .values.reshape(...) instead\n",
            "  \n"
          ],
          "name": "stderr"
        },
        {
          "output_type": "display_data",
          "data": {
            "image/png": "[encoded data removed]",
            "text/plain": [
              "<matplotlib.figure.Figure at 0x7f8aaea5e1d0>"
            ]
          },
          "metadata": {
            "tags": []
          }
        }
      ]
    },
    {
      "metadata": {
        "id": "RRwQYdjkHJOy",
        "colab_type": "text"
      },
      "cell_type": "markdown",
      "source": [
        "#### End ofSolution"
      ]
    },
    {
      "metadata": {
        "id": "HF9zaCXiQtTr",
        "colab_type": "code",
        "colab": {
          "base_uri": "https://localhost:8080/",
          "height": 194
        },
        "outputId": "cdb14f7d-e929-4388-bf59-5fb8132a888b"
      },
      "cell_type": "code",
      "source": [
        "# FInally, lets see how many samples we have from each class\n",
        "Counter(digits.target)"
      ],
      "execution_count": 105,
      "outputs": [
        {
          "output_type": "execute_result",
          "data": {
            "text/plain": [
              "Counter({0: 178,\n",
              "         1: 182,\n",
              "         2: 177,\n",
              "         3: 183,\n",
              "         4: 181,\n",
              "         5: 182,\n",
              "         6: 181,\n",
              "         7: 179,\n",
              "         8: 174,\n",
              "         9: 180})"
            ]
          },
          "metadata": {
            "tags": []
          },
          "execution_count": 105
        }
      ]
    },
    {
      "metadata": {
        "id": "xtJon1nDMAKe",
        "colab_type": "text"
      },
      "cell_type": "markdown",
      "source": [
        "## Side path - showing data in low dimension"
      ]
    },
    {
      "metadata": {
        "id": "Ecl-gLUQHQgy",
        "colab_type": "text"
      },
      "cell_type": "markdown",
      "source": [
        "after looking for features in standard ways, lets look for features in ML methods\n",
        "\n",
        "dimention reduction - from 64 to 2, to see if there are some high dimentionall paterns that may help us\n",
        "\n",
        "we'll be using pca"
      ]
    },
    {
      "metadata": {
        "id": "zmUwow4aNQvo",
        "colab_type": "text"
      },
      "cell_type": "markdown",
      "source": [
        "### sklearn structure: \n",
        "  1. define model\n",
        "  2. fit\n",
        "  3. predict (or fit+predict = fit transform)"
      ]
    },
    {
      "metadata": {
        "id": "TAqhwKROLHJQ",
        "colab_type": "code",
        "colab": {
          "base_uri": "https://localhost:8080/",
          "height": 196
        },
        "outputId": "921d3f76-2625-4342-ec24-cf92776988bd"
      },
      "cell_type": "code",
      "source": [
        "from sklearn.decomposition import RandomizedPCA, PCA\n",
        "# Create a Randomized PCA model that takes two components\n",
        "randomized_pca = RandomizedPCA(n_components=2) #define\n",
        "\n",
        "\n",
        "\n",
        "# Create a regular PCA model \n",
        "pca = PCA(n_components=2)\n",
        "# Fit  the data to the model\n",
        "pca.fit_transform(digits.data)\n",
        "\n",
        "\n",
        "reduced_data_pca = pca.transform(digits.data)\n",
        "\n",
        "# Inspect the shape\n",
        "reduced_data_pca.shape\n",
        "\n",
        "# Print out the data. We saved 2 reductions: pca, and rpca\n",
        "print(reduced_data_rpca)\n",
        "#print(reduced_data_pca)\n",
        "reduced_data = reduced_data_rpca"
      ],
      "execution_count": 119,
      "outputs": [
        {
          "output_type": "stream",
          "text": [
            "[[ -1.25436907  21.26422836]\n",
            " [  7.95184632 -20.77071796]\n",
            " [  6.9848094   -9.85767422]\n",
            " ...\n",
            " [ 10.79313598  -6.91387173]\n",
            " [ -4.86333243  12.34134599]\n",
            " [ -0.3449226    6.3642895 ]]\n"
          ],
          "name": "stdout"
        },
        {
          "output_type": "stream",
          "text": [
            "/usr/local/lib/python3.6/dist-packages/sklearn/utils/deprecation.py:58: DeprecationWarning: Class RandomizedPCA is deprecated; RandomizedPCA was deprecated in 0.18 and will be removed in 0.20. Use PCA(svd_solver='randomized') instead. The new implementation DOES NOT store whiten ``components_``. Apply transform to get them.\n",
            "  warnings.warn(msg, category=DeprecationWarning)\n"
          ],
          "name": "stderr"
        }
      ]
    },
    {
      "metadata": {
        "id": "EaBkeG00iVXd",
        "colab_type": "code",
        "colab": {}
      },
      "cell_type": "code",
      "source": [
        "# lets use another PCA model\n",
        "# Fit and transform the data to the model\n",
        "reduced_data_rpca = randomized_pca.fit_transform(digits.data)"
      ],
      "execution_count": 0,
      "outputs": []
    },
    {
      "metadata": {
        "id": "xmeJh_k9NUTD",
        "colab_type": "code",
        "colab": {}
      },
      "cell_type": "code",
      "source": [
        "def d2_plot(x_data,y_data):\n",
        "  colors = ['black', 'blue', 'purple', 'yellow', 'white', 'red', 'lime', 'cyan', 'orange', 'gray']\n",
        "  for i in range(len(colors)):\n",
        "      x = x_data[digits.target == i]\n",
        "      y = y_data[digits.target == i]\n",
        "      plt.scatter(x, y, c=colors[i])\n",
        "  plt.legend(digits.target_names, bbox_to_anchor=(1.05, 1), loc=2, borderaxespad=0.)\n",
        "  plt.xlabel('First Principal Component')\n",
        "  plt.ylabel('Second Principal Component')\n",
        "  plt.title(\"PCA Scatter Plot\")\n",
        "  plt.show()"
      ],
      "execution_count": 0,
      "outputs": []
    },
    {
      "metadata": {
        "id": "bR7MPVa1eEDM",
        "colab_type": "code",
        "colab": {
          "base_uri": "https://localhost:8080/",
          "height": 375
        },
        "outputId": "8256fe59-629c-437a-bfd0-ca62ea50d83e"
      },
      "cell_type": "code",
      "source": [
        "d2_plot(reduced_data[:, 0],reduced_data[:,1])"
      ],
      "execution_count": 120,
      "outputs": [
        {
          "output_type": "display_data",
          "data": {
            "image/png": "[encoded data removed]",
            "text/plain": [
              "<matplotlib.figure.Figure at 0x7f8aae880c88>"
            ]
          },
          "metadata": {
            "tags": []
          }
        }
      ]
    },
    {
      "metadata": {
        "id": "C0CwwEXSk_XG",
        "colab_type": "text"
      },
      "cell_type": "markdown",
      "source": [
        "**Exercise**: try to find more good/better embeddings, with [sklearn.manifold.Isomap, sklearn.manifold.TSNE]\n",
        "\n",
        "dont forget to complete extra parameters if necessary\n",
        "\n",
        "Bonus: try sklearn.manifold.SpectralEmbedding sklearn.,manifold.MDS"
      ]
    },
    {
      "metadata": {
        "id": "8GYRbJMuhUU9",
        "colab_type": "text"
      },
      "cell_type": "markdown",
      "source": [
        "### Solution"
      ]
    },
    {
      "metadata": {
        "id": "vc9rCON3dYZr",
        "colab_type": "code",
        "colab": {}
      },
      "cell_type": "code",
      "source": [
        "from sklearn import (manifold, datasets, decomposition, ensemble, discriminant_analysis, random_projection)\n",
        "\n",
        "rp = random_projection.SparseRandomProjection(n_components=2, random_state=42)\n",
        "X_projected = rp.fit_transform(digits.data)\n",
        "reduced_data=X_projected"
      ],
      "execution_count": 0,
      "outputs": []
    },
    {
      "metadata": {
        "id": "_tHFItGpd3uW",
        "colab_type": "code",
        "colab": {}
      },
      "cell_type": "code",
      "source": [
        "X_SVD = decomposition.TruncatedSVD(n_components=2).fit_transform(digits.data)\n",
        "reduced_data = X_SVD"
      ],
      "execution_count": 0,
      "outputs": []
    },
    {
      "metadata": {
        "id": "dPaYYOvJeL2X",
        "colab_type": "code",
        "colab": {}
      },
      "cell_type": "code",
      "source": [
        "n_neighbors = 30\n",
        "X_iso = manifold.Isomap(n_neighbors, n_components=2).fit_transform(digits.data)\n",
        "reduced_data = X_iso"
      ],
      "execution_count": 0,
      "outputs": []
    },
    {
      "metadata": {
        "id": "cOEgOGayfMK2",
        "colab_type": "code",
        "colab": {
          "base_uri": "https://localhost:8080/",
          "height": 72
        },
        "outputId": "3c9ee557-ed9b-4295-d2e5-916b19cfdab3"
      },
      "cell_type": "code",
      "source": [
        "###\n",
        "X_mds = manifold.MDS(n_components=2, n_init=1, max_iter=100).fit_transform(digits.data)\n",
        "\n",
        "\n",
        "###\n",
        "embedder = manifold.SpectralEmbedding(n_components=2, random_state=0,eigen_solver=\"arpack\").fit_transform(digits.data)\n"
      ],
      "execution_count": 134,
      "outputs": [
        {
          "output_type": "stream",
          "text": [
            "/usr/local/lib/python3.6/dist-packages/scipy/sparse/csgraph/_laplacian.py:72: FutureWarning: Conversion of the second argument of issubdtype from `int` to `np.signedinteger` is deprecated. In future, it will be treated as `np.int64 == np.dtype(int).type`.\n",
            "  if normed and (np.issubdtype(csgraph.dtype, int)\n"
          ],
          "name": "stderr"
        }
      ]
    },
    {
      "metadata": {
        "id": "Ho5RFaN2hBSa",
        "colab_type": "code",
        "colab": {}
      },
      "cell_type": "code",
      "source": [
        "###\n",
        "tsne = manifold.TSNE(n_components=2, random_state=0).fit_transform(digits.data)"
      ],
      "execution_count": 0,
      "outputs": []
    },
    {
      "metadata": {
        "id": "d1xuCN70fQTG",
        "colab_type": "code",
        "colab": {}
      },
      "cell_type": "code",
      "source": [
        "reduced_data = tsne"
      ],
      "execution_count": 0,
      "outputs": []
    },
    {
      "metadata": {
        "id": "B8325bFgdBwY",
        "colab_type": "code",
        "colab": {}
      },
      "cell_type": "code",
      "source": [
        "d2_plot(reduced_data[:, 0],reduced_data[:,1])"
      ],
      "execution_count": 0,
      "outputs": []
    },
    {
      "metadata": {
        "id": "7wGuTnKkdSb1",
        "colab_type": "code",
        "colab": {}
      },
      "cell_type": "code",
      "source": [
        "# TSNE is surprisingly efficient for reducing image dimension. A nice trick sometime applied is presenting the images themselves on the grid"
      ],
      "execution_count": 0,
      "outputs": []
    },
    {
      "metadata": {
        "id": "zQn5fgUmTJC-",
        "colab_type": "code",
        "colab": {}
      },
      "cell_type": "code",
      "source": [
        ""
      ],
      "execution_count": 0,
      "outputs": []
    },
    {
      "metadata": {
        "id": "ewbis7psTNsa",
        "colab_type": "text"
      },
      "cell_type": "markdown",
      "source": [
        "## Train a model"
      ]
    },
    {
      "metadata": {
        "id": "CCPU4RghgPla",
        "colab_type": "text"
      },
      "cell_type": "markdown",
      "source": [
        "to train a model: \n",
        "0. get the data (done)\n",
        "1.  split the data\n",
        "2. train/fit a model on training data\n",
        "3. evaluate on validation\n",
        "4. rinse and repeat"
      ]
    },
    {
      "metadata": {
        "id": "Pze2umsXThJs",
        "colab_type": "code",
        "colab": {
          "base_uri": "https://localhost:8080/",
          "height": 72
        },
        "outputId": "58fcb132-a1c1-4ccd-f976-7676cee42ca6"
      },
      "cell_type": "code",
      "source": [
        "# Import `train_test_split`\n",
        "from sklearn.cross_validation import train_test_split\n",
        "from sklearn.linear_model import LogisticRegression\n",
        "# more models later"
      ],
      "execution_count": 151,
      "outputs": [
        {
          "output_type": "stream",
          "text": [
            "/usr/local/lib/python3.6/dist-packages/sklearn/cross_validation.py:41: DeprecationWarning: This module was deprecated in version 0.18 in favor of the model_selection module into which all the refactored classes and functions are moved. Also note that the interface of the new CV iterators are different from that of this module. This module will be removed in 0.20.\n",
            "  \"This module will be removed in 0.20.\", DeprecationWarning)\n"
          ],
          "name": "stderr"
        }
      ]
    },
    {
      "metadata": {
        "id": "cEGGm4nYTkcK",
        "colab_type": "code",
        "colab": {
          "base_uri": "https://localhost:8080/",
          "height": 34
        },
        "outputId": "a3251166-9fdf-4e7f-dd30-4566f9b64159"
      },
      "cell_type": "code",
      "source": [
        "\n",
        "# Split the data into training and test sets \n",
        "X_train, X_test, y_train, y_test, images_train, images_test = train_test_split(digits.data, digits.target, digits.images, test_size=0.25, random_state=42)\n",
        "len (X_train), len (X_test)"
      ],
      "execution_count": 152,
      "outputs": [
        {
          "output_type": "execute_result",
          "data": {
            "text/plain": [
              "(1347, 450)"
            ]
          },
          "metadata": {
            "tags": []
          },
          "execution_count": 152
        }
      ]
    },
    {
      "metadata": {
        "id": "g7fcdjI9VhvP",
        "colab_type": "text"
      },
      "cell_type": "markdown",
      "source": [
        "Exercise:\n",
        "- Define logisitc regression model - look at how its' done in PCA\n",
        "- fit it on (x,y) trainset\n",
        "- predict on  test, and save in predictions\n"
      ]
    },
    {
      "metadata": {
        "id": "fKerc_tkUsj4",
        "colab_type": "code",
        "colab": {}
      },
      "cell_type": "code",
      "source": [
        ""
      ],
      "execution_count": 0,
      "outputs": []
    },
    {
      "metadata": {
        "id": "z65ZrS8vWMPq",
        "colab_type": "text"
      },
      "cell_type": "markdown",
      "source": [
        "Exercise:\n",
        "* Show some (4? 16?) images, and their predictions. (on test set of course)\n",
        "* Add tje real results as well. how does the prediction look?"
      ]
    },
    {
      "metadata": {
        "id": "zfByzzo2V91r",
        "colab_type": "code",
        "colab": {}
      },
      "cell_type": "code",
      "source": [
        ""
      ],
      "execution_count": 0,
      "outputs": []
    },
    {
      "metadata": {
        "id": "shciEj8yj1Zx",
        "colab_type": "code",
        "colab": {}
      },
      "cell_type": "code",
      "source": [
        ""
      ],
      "execution_count": 0,
      "outputs": []
    },
    {
      "metadata": {
        "id": "hEE3DwDOj4e3",
        "colab_type": "text"
      },
      "cell_type": "markdown",
      "source": [
        "- use model.score(X_test) to see the accuracy on train and test set"
      ]
    },
    {
      "metadata": {
        "id": "hhjKYQU6WaK7",
        "colab_type": "code",
        "colab": {
          "base_uri": "https://localhost:8080/",
          "height": 34
        },
        "outputId": "5b18a675-9b4f-40ad-9632-cd58ae91a345"
      },
      "cell_type": "code",
      "source": [
        "# score model (accuracy)\n",
        "log_model.score(X_train, y_train) "
      ],
      "execution_count": 66,
      "outputs": [
        {
          "output_type": "execute_result",
          "data": {
            "text/plain": [
              "0.9948032665181886"
            ]
          },
          "metadata": {
            "tags": []
          },
          "execution_count": 66
        }
      ]
    },
    {
      "metadata": {
        "id": "Vwar7TlEWgVv",
        "colab_type": "code",
        "colab": {
          "base_uri": "https://localhost:8080/",
          "height": 34
        },
        "outputId": "8f28c558-2b26-4659-e882-ef4f37183ff4"
      },
      "cell_type": "code",
      "source": [
        "log_model.score(X_test, y_test) "
      ],
      "execution_count": 67,
      "outputs": [
        {
          "output_type": "execute_result",
          "data": {
            "text/plain": [
              "0.9666666666666667"
            ]
          },
          "metadata": {
            "tags": []
          },
          "execution_count": 67
        }
      ]
    },
    {
      "metadata": {
        "id": "_Cz89NPvWjKO",
        "colab_type": "text"
      },
      "cell_type": "markdown",
      "source": [
        "Train results are 3 points better than test. hat does that mean?"
      ]
    },
    {
      "metadata": {
        "id": "lna8y7eSXWPw",
        "colab_type": "text"
      },
      "cell_type": "markdown",
      "source": [
        "Exercise:\n",
        "\n",
        "Try a few other classification models:\n",
        "\n",
        "\n",
        "*   from sklearn.neural_network import MLPClassifier\n",
        "*   from sklearn.ensemble import ExtraTreesClassifier\n",
        "*  from sklearn.tree import DecisionTreeClassifier\n",
        "svm.SVC\n",
        "\n",
        "\n"
      ]
    },
    {
      "metadata": {
        "id": "qFMx8JR4ZbKH",
        "colab_type": "text"
      },
      "cell_type": "markdown",
      "source": [
        "### Solution"
      ]
    },
    {
      "metadata": {
        "id": "mzNFsYzwXZO7",
        "colab_type": "code",
        "colab": {}
      },
      "cell_type": "code",
      "source": [
        "from sklearn.neural_network import MLPClassifier\n",
        "from sklearn.ensemble import ExtraTreesClassifier\n",
        "from sklearn.tree import DecisionTreeClassifier\n",
        "from sklearn.ensemble import ExtraTreesClassifier"
      ],
      "execution_count": 0,
      "outputs": []
    },
    {
      "metadata": {
        "id": "1rc3Ajl2YHkA",
        "colab_type": "code",
        "colab": {}
      },
      "cell_type": "code",
      "source": [
        "mlp = MLPClassifier()\n",
        "lr = LogisticRegression()\n",
        "#rf = RandomForestClassifier(n_estimators=estimators,max_depth=10, oob_score=True, random_state=1)\n",
        "dt = DecisionTreeClassifier()\n",
        "et =ExtraTreesClassifier()\n"
      ],
      "execution_count": 0,
      "outputs": []
    },
    {
      "metadata": {
        "id": "82rCts6BYd9g",
        "colab_type": "code",
        "colab": {
          "base_uri": "https://localhost:8080/",
          "height": 567
        },
        "outputId": "3eacb0e0-b80c-4649-c07b-868b44b1a9eb"
      },
      "cell_type": "code",
      "source": [
        "for model in [mlp,lr,dt,et]:\n",
        "  model.fit(X_train, y_train)\n",
        "  model.fit(X_train, y_train)\n",
        "  print(model)\n",
        "  print(model.score(X_train, y_train) )\n",
        "  print(model.score(X_test, y_test))"
      ],
      "execution_count": 73,
      "outputs": [
        {
          "output_type": "stream",
          "text": [
            "MLPClassifier(activation='relu', alpha=0.0001, batch_size='auto', beta_1=0.9,\n",
            "       beta_2=0.999, early_stopping=False, epsilon=1e-08,\n",
            "       hidden_layer_sizes=(100,), learning_rate='constant',\n",
            "       learning_rate_init=0.001, max_iter=200, momentum=0.9,\n",
            "       nesterovs_momentum=True, power_t=0.5, random_state=None,\n",
            "       shuffle=True, solver='adam', tol=0.0001, validation_fraction=0.1,\n",
            "       verbose=False, warm_start=False)\n",
            "1.0\n",
            "0.9733333333333334\n",
            "LogisticRegression(C=1.0, class_weight=None, dual=False, fit_intercept=True,\n",
            "          intercept_scaling=1, max_iter=100, multi_class='ovr', n_jobs=1,\n",
            "          penalty='l2', random_state=None, solver='liblinear', tol=0.0001,\n",
            "          verbose=0, warm_start=False)\n",
            "0.9948032665181886\n",
            "0.9666666666666667\n",
            "DecisionTreeClassifier(class_weight=None, criterion='gini', max_depth=None,\n",
            "            max_features=None, max_leaf_nodes=None,\n",
            "            min_impurity_decrease=0.0, min_impurity_split=None,\n",
            "            min_samples_leaf=1, min_samples_split=2,\n",
            "            min_weight_fraction_leaf=0.0, presort=False, random_state=None,\n",
            "            splitter='best')\n",
            "1.0\n",
            "0.8555555555555555\n",
            "ExtraTreesClassifier(bootstrap=False, class_weight=None, criterion='gini',\n",
            "           max_depth=None, max_features='auto', max_leaf_nodes=None,\n",
            "           min_impurity_decrease=0.0, min_impurity_split=None,\n",
            "           min_samples_leaf=1, min_samples_split=2,\n",
            "           min_weight_fraction_leaf=0.0, n_estimators=10, n_jobs=1,\n",
            "           oob_score=False, random_state=None, verbose=0, warm_start=False)\n",
            "1.0\n",
            "0.9644444444444444\n"
          ],
          "name": "stdout"
        }
      ]
    },
    {
      "metadata": {
        "id": "d1_miEY2ZL7_",
        "colab_type": "code",
        "colab": {}
      },
      "cell_type": "code",
      "source": [
        ""
      ],
      "execution_count": 0,
      "outputs": []
    },
    {
      "metadata": {
        "id": "Px7OgnfHZe3O",
        "colab_type": "text"
      },
      "cell_type": "markdown",
      "source": [
        "### More modeling"
      ]
    },
    {
      "metadata": {
        "id": "A5LSPrx2Zdsa",
        "colab_type": "code",
        "colab": {}
      },
      "cell_type": "code",
      "source": [
        "\n",
        "# what are the errors in our models\n",
        "  # exercise\n",
        "  # plot some erroneous results (hint: use the correct results plotting)"
      ],
      "execution_count": 0,
      "outputs": []
    },
    {
      "metadata": {
        "id": "3zJYVyhJZ5dF",
        "colab_type": "code",
        "colab": {}
      },
      "cell_type": "code",
      "source": [
        "from sklearn.metrics import confusion_matrix as cm"
      ],
      "execution_count": 0,
      "outputs": []
    },
    {
      "metadata": {
        "id": "ADDk8sH-aFGv",
        "colab_type": "code",
        "colab": {
          "base_uri": "https://localhost:8080/",
          "height": 194
        },
        "outputId": "ab3915b3-5fd4-4393-a37b-10035918e8db"
      },
      "cell_type": "code",
      "source": [
        "cm(predicted,y_test)"
      ],
      "execution_count": 75,
      "outputs": [
        {
          "output_type": "execute_result",
          "data": {
            "text/plain": [
              "array([[42,  0,  0,  0,  0,  0,  0,  0,  0,  0],\n",
              "       [ 0, 36,  0,  0,  1,  0,  0,  0,  1,  0],\n",
              "       [ 0,  0, 38,  0,  0,  1,  0,  0,  0,  0],\n",
              "       [ 0,  0,  0, 44,  0,  0,  0,  0,  0,  0],\n",
              "       [ 1,  0,  0,  0, 54,  0,  0,  0,  0,  0],\n",
              "       [ 0,  0,  0,  1,  0, 56,  1,  0,  1,  0],\n",
              "       [ 0,  0,  0,  0,  0,  0, 44,  0,  0,  0],\n",
              "       [ 0,  0,  0,  0,  0,  0,  0, 40,  0,  0],\n",
              "       [ 0,  1,  0,  1,  0,  1,  0,  0, 36,  3],\n",
              "       [ 0,  0,  0,  0,  0,  1,  0,  1,  0, 45]])"
            ]
          },
          "metadata": {
            "tags": []
          },
          "execution_count": 75
        }
      ]
    },
    {
      "metadata": {
        "id": "dVWrkD6GaIME",
        "colab_type": "code",
        "colab": {}
      },
      "cell_type": "code",
      "source": [
        "# cross validation\n",
        "from sklearn.model_selection import  KFold\n",
        "\n",
        "kf = KFold(n_splits=5)"
      ],
      "execution_count": 0,
      "outputs": []
    },
    {
      "metadata": {
        "id": "8lb_6MeUayhI",
        "colab_type": "code",
        "colab": {}
      },
      "cell_type": "code",
      "source": [
        "digits.data, digits.target"
      ],
      "execution_count": 0,
      "outputs": []
    },
    {
      "metadata": {
        "id": "WTj2R1c0ap_U",
        "colab_type": "code",
        "colab": {}
      },
      "cell_type": "code",
      "source": [
        "  results=[]\n",
        "  for samples_train, samples_test in kf.split(digits.data):\n",
        "      X_trn, X_val, y_trn, y_val = digits.data[samples_train],digits.data[samples_test], digits.target[samples_train], digits.target[samples_test]\n",
        "      model.fit(X_trn, y_trn)\n",
        "\n",
        "      score = model.score(X_val, y_val)\n",
        "      results.append(score)"
      ],
      "execution_count": 0,
      "outputs": []
    },
    {
      "metadata": {
        "id": "BScu1i9ma7wD",
        "colab_type": "code",
        "colab": {
          "base_uri": "https://localhost:8080/",
          "height": 34
        },
        "outputId": "6b520000-f89b-4328-af30-953bca5a7169"
      },
      "cell_type": "code",
      "source": [
        "round(np.mean(results), 3), round(np.std(results), 3)"
      ],
      "execution_count": 84,
      "outputs": [
        {
          "output_type": "execute_result",
          "data": {
            "text/plain": [
              "(0.925, 0.032)"
            ]
          },
          "metadata": {
            "tags": []
          },
          "execution_count": 84
        }
      ]
    },
    {
      "metadata": {
        "id": "WQaqJvtEbDo0",
        "colab_type": "code",
        "colab": {}
      },
      "cell_type": "code",
      "source": [
        ""
      ],
      "execution_count": 0,
      "outputs": []
    },
    {
      "metadata": {
        "id": "X3YS0zLckJ9V",
        "colab_type": "text"
      },
      "cell_type": "markdown",
      "source": [
        "## Ensembling"
      ]
    },
    {
      "metadata": {
        "id": "iBiFMNpWkL0p",
        "colab_type": "text"
      },
      "cell_type": "markdown",
      "source": [
        "some times two models are better than 1.\n",
        "\n",
        "Exercise:\n",
        "* Take 2 of the best models and average their prediction. text the accuracy.\n",
        "* Take now 3 modes, and consuct a majority votes between them. what did you get?"
      ]
    },
    {
      "metadata": {
        "id": "CtMVN-_kkK63",
        "colab_type": "code",
        "colab": {}
      },
      "cell_type": "code",
      "source": [
        ""
      ],
      "execution_count": 0,
      "outputs": []
    },
    {
      "metadata": {
        "id": "HN4fNibbgQZl",
        "colab_type": "text"
      },
      "cell_type": "markdown",
      "source": [
        "## Optional\n",
        "\n",
        "** Exercise:** Load sklearn.datasets.load_breast_cancer and run all cycle on it:\n",
        "- load data with \"import\"\n",
        "- put the data in a dattaframe, set the column names\n",
        "- Optional: look at the data at low dimention\n",
        "- split to train test (train_test_split())\n",
        "- train a model of your desire\n",
        "- evaluate\n",
        "- see results"
      ]
    },
    {
      "metadata": {
        "id": "V1qQXoZagRvs",
        "colab_type": "code",
        "colab": {}
      },
      "cell_type": "code",
      "source": [
        "from sklearn.datasets import load_breast_cancer"
      ],
      "execution_count": 0,
      "outputs": []
    },
    {
      "metadata": {
        "id": "WahWpJ1hSah8",
        "colab_type": "code",
        "colab": {}
      },
      "cell_type": "code",
      "source": [
        "b_data = load_breast_cancer()"
      ],
      "execution_count": 0,
      "outputs": []
    },
    {
      "metadata": {
        "id": "RHjXBZGySh4D",
        "colab_type": "code",
        "colab": {}
      },
      "cell_type": "code",
      "source": [
        ""
      ],
      "execution_count": 0,
      "outputs": []
    }
  ]
}